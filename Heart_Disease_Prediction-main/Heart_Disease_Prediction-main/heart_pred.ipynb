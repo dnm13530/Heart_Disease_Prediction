{
 "cells": [
  {
   "cell_type": "markdown",
   "metadata": {},
   "source": [
    "Import necessary libraries"
   ]
  },
  {
   "cell_type": "code",
   "execution_count": 3,
   "metadata": {},
   "outputs": [
    {
     "name": "stdout",
     "output_type": "stream",
     "text": [
      "Requirement already satisfied: xgboost in c:\\users\\manvitha harishbabu\\anaconda3\\lib\\site-packages (2.1.3)\n",
      "Requirement already satisfied: numpy in c:\\users\\manvitha harishbabu\\anaconda3\\lib\\site-packages (from xgboost) (1.26.4)\n",
      "Requirement already satisfied: scipy in c:\\users\\manvitha harishbabu\\anaconda3\\lib\\site-packages (from xgboost) (1.13.1)\n",
      "Note: you may need to restart the kernel to use updated packages.\n"
     ]
    }
   ],
   "source": [
    "pip install xgboost"
   ]
  },
  {
   "cell_type": "code",
   "execution_count": 4,
   "metadata": {},
   "outputs": [],
   "source": [
    "import pandas as pd\n",
    "import numpy as np\n",
    "from sklearn.model_selection import train_test_split\n",
    "from sklearn.preprocessing import StandardScaler\n",
    "from sklearn.ensemble import RandomForestClassifier\n",
    "from sklearn.metrics import accuracy_score, classification_report, confusion_matrix\n",
    "from sklearn.linear_model import LogisticRegression\n",
    "from sklearn.svm import SVC\n",
    "from sklearn.neighbors import KNeighborsClassifier\n",
    "from xgboost import XGBClassifier\n",
    "import matplotlib.pyplot as plt\n",
    "from sklearn.ensemble import StackingClassifier\n",
    "from sklearn.linear_model import LogisticRegression\n",
    "from sklearn.svm import SVC\n",
    "\n",
    "\n"
   ]
  },
  {
   "cell_type": "code",
   "execution_count": null,
   "metadata": {},
   "outputs": [],
   "source": []
  },
  {
   "cell_type": "markdown",
   "metadata": {},
   "source": [
    "Load Dataset"
   ]
  },
  {
   "cell_type": "code",
   "execution_count": 5,
   "metadata": {},
   "outputs": [
    {
     "name": "stdout",
     "output_type": "stream",
     "text": [
      "Dataset preview:\n",
      "    age  sex  chest pain type  resting bp s  cholesterol  fasting blood sugar  \\\n",
      "0   40    1                2           140          289                    0   \n",
      "1   49    0                3           160          180                    0   \n",
      "2   37    1                2           130          283                    0   \n",
      "3   48    0                4           138          214                    0   \n",
      "4   54    1                3           150          195                    0   \n",
      "\n",
      "   resting ecg  max heart rate  exercise angina  oldpeak  ST slope  target  \n",
      "0            0             172                0      0.0         1       0  \n",
      "1            0             156                0      1.0         2       1  \n",
      "2            1              98                0      0.0         1       0  \n",
      "3            0             108                1      1.5         2       1  \n",
      "4            0             122                0      0.0         1       0  \n"
     ]
    }
   ],
   "source": [
    "data = pd.read_csv('cleveland1.csv')\n",
    "print(\"Dataset preview:\\n\", data.head())"
   ]
  },
  {
   "cell_type": "markdown",
   "metadata": {},
   "source": [
    "Preprocessing"
   ]
  },
  {
   "cell_type": "code",
   "execution_count": 6,
   "metadata": {},
   "outputs": [],
   "source": [
    "X = data.drop('target', axis=1)\n",
    "y = data['target']\n",
    "X_train, X_test, y_train, y_test = train_test_split(X, y, test_size=0.2, random_state=42)"
   ]
  },
  {
   "cell_type": "markdown",
   "metadata": {},
   "source": [
    "Scaling"
   ]
  },
  {
   "cell_type": "code",
   "execution_count": 7,
   "metadata": {},
   "outputs": [],
   "source": [
    "scaler = StandardScaler()\n",
    "X_train = scaler.fit_transform(X_train)\n",
    "X_test = scaler.transform(X_test)"
   ]
  },
  {
   "cell_type": "markdown",
   "metadata": {},
   "source": [
    "Implementing different Algorithms"
   ]
  },
  {
   "cell_type": "markdown",
   "metadata": {},
   "source": [
    "Random Forest Classifier\n"
   ]
  },
  {
   "cell_type": "code",
   "execution_count": 8,
   "metadata": {},
   "outputs": [
    {
     "name": "stdout",
     "output_type": "stream",
     "text": [
      "Random Forest Accuracy: 0.9453781512605042\n"
     ]
    }
   ],
   "source": [
    "\n",
    "rf = RandomForestClassifier(random_state=42)\n",
    "rf.fit(X_train, y_train)\n",
    "y_pred_rf = rf.predict(X_test)\n",
    "\n",
    "# Evaluate\n",
    "print(\"Random Forest Accuracy:\", accuracy_score(y_test, y_pred_rf))\n"
   ]
  },
  {
   "cell_type": "markdown",
   "metadata": {},
   "source": [
    "Logistic Regression"
   ]
  },
  {
   "cell_type": "code",
   "execution_count": 9,
   "metadata": {},
   "outputs": [
    {
     "name": "stdout",
     "output_type": "stream",
     "text": [
      "Logistic Regression Accuracy: 0.8613445378151261\n"
     ]
    }
   ],
   "source": [
    "lr = LogisticRegression(random_state=42)\n",
    "lr.fit(X_train, y_train)\n",
    "y_pred_lr = lr.predict(X_test)\n",
    "\n",
    "# Evaluate\n",
    "print(\"Logistic Regression Accuracy:\", accuracy_score(y_test, y_pred_lr))"
   ]
  },
  {
   "cell_type": "markdown",
   "metadata": {},
   "source": [
    "Support Vector Machine(SVM)"
   ]
  },
  {
   "cell_type": "code",
   "execution_count": 10,
   "metadata": {},
   "outputs": [
    {
     "name": "stdout",
     "output_type": "stream",
     "text": [
      "SVM Accuracy: 0.8445378151260504\n"
     ]
    }
   ],
   "source": [
    "svm = SVC(kernel='linear', random_state=42)\n",
    "svm.fit(X_train, y_train)\n",
    "y_pred_svm = svm.predict(X_test)\n",
    "\n",
    "# Evaluate\n",
    "print(\"SVM Accuracy:\", accuracy_score(y_test, y_pred_svm))"
   ]
  },
  {
   "cell_type": "markdown",
   "metadata": {},
   "source": [
    "K-Nearest Neighbors(KNN)"
   ]
  },
  {
   "cell_type": "code",
   "execution_count": 11,
   "metadata": {},
   "outputs": [
    {
     "name": "stdout",
     "output_type": "stream",
     "text": [
      "KNN Accuracy: 0.8865546218487395\n"
     ]
    }
   ],
   "source": [
    "knn = KNeighborsClassifier(n_neighbors=5)\n",
    "knn.fit(X_train, y_train)\n",
    "y_pred_knn = knn.predict(X_test)\n",
    "\n",
    "# Evaluate\n",
    "print(\"KNN Accuracy:\", accuracy_score(y_test, y_pred_knn))"
   ]
  },
  {
   "cell_type": "markdown",
   "metadata": {},
   "source": [
    "XGBoost"
   ]
  },
  {
   "cell_type": "code",
   "execution_count": 12,
   "metadata": {},
   "outputs": [
    {
     "name": "stdout",
     "output_type": "stream",
     "text": [
      "XGBoost Accuracy: 0.9285714285714286\n"
     ]
    },
    {
     "name": "stderr",
     "output_type": "stream",
     "text": [
      "c:\\Users\\Manvitha HarishBabu\\anaconda3\\Lib\\site-packages\\xgboost\\core.py:158: UserWarning: [11:16:05] WARNING: C:\\buildkite-agent\\builds\\buildkite-windows-cpu-autoscaling-group-i-0c55ff5f71b100e98-1\\xgboost\\xgboost-ci-windows\\src\\learner.cc:740: \n",
      "Parameters: { \"use_label_encoder\" } are not used.\n",
      "\n",
      "  warnings.warn(smsg, UserWarning)\n"
     ]
    }
   ],
   "source": [
    "xgb = XGBClassifier(random_state=42, use_label_encoder=False, eval_metric='logloss')\n",
    "xgb.fit(X_train, y_train)\n",
    "y_pred_xgb = xgb.predict(X_test)\n",
    "\n",
    "# Evaluate\n",
    "print(\"XGBoost Accuracy:\", accuracy_score(y_test, y_pred_xgb))"
   ]
  },
  {
   "cell_type": "markdown",
   "metadata": {},
   "source": [
    "Stacking (Combining Algorithms)"
   ]
  },
  {
   "cell_type": "code",
   "execution_count": 13,
   "metadata": {},
   "outputs": [
    {
     "name": "stdout",
     "output_type": "stream",
     "text": [
      "\n",
      "Defining base models for stacking...\n",
      "\n",
      "Defining meta-model for stacking...\n",
      "\n",
      "Creating Stacking Classifier...\n"
     ]
    },
    {
     "name": "stderr",
     "output_type": "stream",
     "text": [
      "c:\\Users\\Manvitha HarishBabu\\anaconda3\\Lib\\site-packages\\xgboost\\core.py:158: UserWarning: [11:16:05] WARNING: C:\\buildkite-agent\\builds\\buildkite-windows-cpu-autoscaling-group-i-0c55ff5f71b100e98-1\\xgboost\\xgboost-ci-windows\\src\\learner.cc:740: \n",
      "Parameters: { \"use_label_encoder\" } are not used.\n",
      "\n",
      "  warnings.warn(smsg, UserWarning)\n",
      "c:\\Users\\Manvitha HarishBabu\\anaconda3\\Lib\\site-packages\\xgboost\\core.py:158: UserWarning: [11:16:07] WARNING: C:\\buildkite-agent\\builds\\buildkite-windows-cpu-autoscaling-group-i-0c55ff5f71b100e98-1\\xgboost\\xgboost-ci-windows\\src\\learner.cc:740: \n",
      "Parameters: { \"use_label_encoder\" } are not used.\n",
      "\n",
      "  warnings.warn(smsg, UserWarning)\n"
     ]
    },
    {
     "name": "stdout",
     "output_type": "stream",
     "text": [
      "Stacking classifier training completed!\n"
     ]
    }
   ],
   "source": [
    "# Step 1: Define Base Models\n",
    "print(\"\\nDefining base models for stacking...\")\n",
    "base_models = [\n",
    "    ('random_forest', RandomForestClassifier(random_state=42)),\n",
    "    ('xgboost', XGBClassifier(random_state=42, use_label_encoder=False, eval_metric='logloss'))\n",
    "]\n",
    "\n",
    "# Step 2: Define Meta Model\n",
    "print(\"\\nDefining meta-model for stacking...\")\n",
    "meta_model = LogisticRegression(random_state=42)\n",
    "\n",
    "# Step 3: Create Stacking Classifier\n",
    "print(\"\\nCreating Stacking Classifier...\")\n",
    "stacking_clf = StackingClassifier(estimators=base_models, final_estimator=meta_model, cv=5)\n",
    "stacking_clf.fit(X_train, y_train)\n",
    "y_pred_stack = stacking_clf.predict(X_test)\n",
    "print(\"Stacking classifier training completed!\")"
   ]
  },
  {
   "cell_type": "code",
   "execution_count": 14,
   "metadata": {},
   "outputs": [],
   "source": [
    "# Dictionary to store model accuracies\n",
    "model_accuracies = {}\n",
    "\n",
    "def evaluate_model(y_test, y_pred, model_name):\n",
    "    print(f\"--- {model_name} ---\")\n",
    "    acc = accuracy_score(y_test, y_pred)\n",
    "    print(\"Accuracy:\", accuracy_score(y_test, y_pred))\n",
    "    print(\"Confusion Matrix:\\n\", confusion_matrix(y_test, y_pred))\n",
    "    print(\"Classification Report:\\n\", classification_report(y_test, y_pred))\n",
    "    model_accuracies[model_name] = acc * 100;\n"
   ]
  },
  {
   "cell_type": "code",
   "execution_count": 15,
   "metadata": {},
   "outputs": [
    {
     "name": "stdout",
     "output_type": "stream",
     "text": [
      "--- Logistic Regression ---\n",
      "Accuracy: 0.8613445378151261\n",
      "Confusion Matrix:\n",
      " [[ 90  17]\n",
      " [ 16 115]]\n",
      "Classification Report:\n",
      "               precision    recall  f1-score   support\n",
      "\n",
      "           0       0.85      0.84      0.85       107\n",
      "           1       0.87      0.88      0.87       131\n",
      "\n",
      "    accuracy                           0.86       238\n",
      "   macro avg       0.86      0.86      0.86       238\n",
      "weighted avg       0.86      0.86      0.86       238\n",
      "\n",
      "--- Random Forest ---\n",
      "Accuracy: 0.9453781512605042\n",
      "Confusion Matrix:\n",
      " [[ 98   9]\n",
      " [  4 127]]\n",
      "Classification Report:\n",
      "               precision    recall  f1-score   support\n",
      "\n",
      "           0       0.96      0.92      0.94       107\n",
      "           1       0.93      0.97      0.95       131\n",
      "\n",
      "    accuracy                           0.95       238\n",
      "   macro avg       0.95      0.94      0.94       238\n",
      "weighted avg       0.95      0.95      0.95       238\n",
      "\n",
      "--- SVM ---\n",
      "Accuracy: 0.8445378151260504\n",
      "Confusion Matrix:\n",
      " [[ 88  19]\n",
      " [ 18 113]]\n",
      "Classification Report:\n",
      "               precision    recall  f1-score   support\n",
      "\n",
      "           0       0.83      0.82      0.83       107\n",
      "           1       0.86      0.86      0.86       131\n",
      "\n",
      "    accuracy                           0.84       238\n",
      "   macro avg       0.84      0.84      0.84       238\n",
      "weighted avg       0.84      0.84      0.84       238\n",
      "\n",
      "--- KNN ---\n",
      "Accuracy: 0.8865546218487395\n",
      "Confusion Matrix:\n",
      " [[ 89  18]\n",
      " [  9 122]]\n",
      "Classification Report:\n",
      "               precision    recall  f1-score   support\n",
      "\n",
      "           0       0.91      0.83      0.87       107\n",
      "           1       0.87      0.93      0.90       131\n",
      "\n",
      "    accuracy                           0.89       238\n",
      "   macro avg       0.89      0.88      0.88       238\n",
      "weighted avg       0.89      0.89      0.89       238\n",
      "\n",
      "--- XGBoost ---\n",
      "Accuracy: 0.9285714285714286\n",
      "Confusion Matrix:\n",
      " [[ 97  10]\n",
      " [  7 124]]\n",
      "Classification Report:\n",
      "               precision    recall  f1-score   support\n",
      "\n",
      "           0       0.93      0.91      0.92       107\n",
      "           1       0.93      0.95      0.94       131\n",
      "\n",
      "    accuracy                           0.93       238\n",
      "   macro avg       0.93      0.93      0.93       238\n",
      "weighted avg       0.93      0.93      0.93       238\n",
      "\n",
      "--- Stacked Model ---\n",
      "Accuracy: 0.9495798319327731\n",
      "Confusion Matrix:\n",
      " [[100   7]\n",
      " [  5 126]]\n",
      "Classification Report:\n",
      "               precision    recall  f1-score   support\n",
      "\n",
      "           0       0.95      0.93      0.94       107\n",
      "           1       0.95      0.96      0.95       131\n",
      "\n",
      "    accuracy                           0.95       238\n",
      "   macro avg       0.95      0.95      0.95       238\n",
      "weighted avg       0.95      0.95      0.95       238\n",
      "\n"
     ]
    }
   ],
   "source": [
    "# Evaluate Each Model\n",
    "evaluate_model(y_test, y_pred_lr, \"Logistic Regression\")\n",
    "evaluate_model(y_test, y_pred_rf, \"Random Forest\")\n",
    "evaluate_model(y_test, y_pred_svm, \"SVM\")\n",
    "evaluate_model(y_test, y_pred_knn, \"KNN\")\n",
    "evaluate_model(y_test, y_pred_xgb, \"XGBoost\")\n",
    "# Evaluate Stacked Model\n",
    "evaluate_model(y_test, y_pred_stack, \"Stacked Model\")"
   ]
  },
  {
   "cell_type": "code",
   "execution_count": 16,
   "metadata": {},
   "outputs": [
    {
     "name": "stdout",
     "output_type": "stream",
     "text": [
      "\n",
      "Summary of Model Accuracies:\n",
      "Logistic Regression: 86.13%\n",
      "Random Forest: 94.54%\n",
      "SVM: 84.45%\n",
      "KNN: 88.66%\n",
      "XGBoost: 92.86%\n",
      "Stacked Model: 94.96%\n"
     ]
    }
   ],
   "source": [
    "# Print all accuracies\n",
    "print(\"\\nSummary of Model Accuracies:\")\n",
    "for model, accuracy in model_accuracies.items():\n",
    "    print(f\"{model}: {accuracy:.2f}%\")\n"
   ]
  },
  {
   "cell_type": "code",
   "execution_count": 17,
   "metadata": {},
   "outputs": [
    {
     "data": {
      "image/png": "[encoded data removed]",
      "text/plain": [
       "<Figure size 1000x500 with 1 Axes>"
      ]
     },
     "metadata": {},
     "output_type": "display_data"
    }
   ],
   "source": [
    "# Collect Accuracy Scores\n",
    "models = ['Logistic Regression', 'Random Forest', 'SVM', 'KNN', 'XGBoost', 'Stacked Model']\n",
    "accuracies = [\n",
    "    accuracy_score(y_test, y_pred_lr),\n",
    "    accuracy_score(y_test, y_pred_rf),\n",
    "    accuracy_score(y_test, y_pred_svm),\n",
    "    accuracy_score(y_test, y_pred_knn),\n",
    "    accuracy_score(y_test, y_pred_xgb),\n",
    "    accuracy_score(y_test, y_pred_stack)\n",
    "]\n",
    "\n",
    "# Bar Plot\n",
    "plt.figure(figsize=(10, 5))\n",
    "plt.bar(models, accuracies, color='skyblue')\n",
    "plt.xlabel('Model')\n",
    "plt.ylabel('Accuracy')\n",
    "plt.title('Comparison of Models')\n",
    "plt.ylim(0.7, 1.0)  # Adjust y-axis for better clarity\n",
    "plt.show()"
   ]
  },
  {
   "cell_type": "code",
   "execution_count": 18,
   "metadata": {},
   "outputs": [
    {
     "name": "stdout",
     "output_type": "stream",
     "text": [
      "\n",
      "Performing hyperparameter tuning for Random Forest...\n",
      "Fitting 5 folds for each of 108 candidates, totalling 540 fits\n",
      "\n",
      "Best Parameters for Random Forest: {'max_depth': None, 'min_samples_leaf': 1, 'min_samples_split': 2, 'n_estimators': 200}\n"
     ]
    }
   ],
   "source": [
    "from sklearn.model_selection import GridSearchCV\n",
    "\n",
    "# Define Parameter Grid\n",
    "param_grid = {\n",
    "    'n_estimators': [50, 100, 200],\n",
    "    'max_depth': [None, 10, 20, 30],\n",
    "    'min_samples_split': [2, 5, 10],\n",
    "    'min_samples_leaf': [1, 2, 4],\n",
    "}\n",
    "\n",
    "# GridSearchCV for Random Forest\n",
    "print(\"\\nPerforming hyperparameter tuning for Random Forest...\")\n",
    "grid_search_rf = GridSearchCV(estimator=RandomForestClassifier(random_state=42), param_grid=param_grid, cv=5, scoring='accuracy', verbose=2, n_jobs=-1)\n",
    "grid_search_rf.fit(X_train, y_train)\n",
    "best_rf = grid_search_rf.best_estimator_\n",
    "print(\"\\nBest Parameters for Random Forest:\", grid_search_rf.best_params_)\n"
   ]
  },
  {
   "cell_type": "code",
   "execution_count": 19,
   "metadata": {},
   "outputs": [
    {
     "name": "stdout",
     "output_type": "stream",
     "text": [
      "--- Tuned Random Forest ---\n",
      "Accuracy: 0.9495798319327731\n",
      "Confusion Matrix:\n",
      " [[100   7]\n",
      " [  5 126]]\n",
      "Classification Report:\n",
      "               precision    recall  f1-score   support\n",
      "\n",
      "           0       0.95      0.93      0.94       107\n",
      "           1       0.95      0.96      0.95       131\n",
      "\n",
      "    accuracy                           0.95       238\n",
      "   macro avg       0.95      0.95      0.95       238\n",
      "weighted avg       0.95      0.95      0.95       238\n",
      "\n"
     ]
    }
   ],
   "source": [
    "# Evaluate Tuned Random Forest\n",
    "y_pred_best_rf = best_rf.predict(X_test)\n",
    "evaluate_model(y_test, y_pred_best_rf, \"Tuned Random Forest\")\n"
   ]
  },
  {
   "cell_type": "code",
   "execution_count": 20,
   "metadata": {},
   "outputs": [
    {
     "name": "stdout",
     "output_type": "stream",
     "text": [
      "\n",
      "Performing hyperparameter tuning for XGBoost...\n",
      "Fitting 5 folds for each of 50 candidates, totalling 250 fits\n"
     ]
    },
    {
     "name": "stderr",
     "output_type": "stream",
     "text": [
      "c:\\Users\\Manvitha HarishBabu\\anaconda3\\Lib\\site-packages\\xgboost\\core.py:158: UserWarning: [11:17:30] WARNING: C:\\buildkite-agent\\builds\\buildkite-windows-cpu-autoscaling-group-i-0c55ff5f71b100e98-1\\xgboost\\xgboost-ci-windows\\src\\learner.cc:740: \n",
      "Parameters: { \"use_label_encoder\" } are not used.\n",
      "\n",
      "  warnings.warn(smsg, UserWarning)\n"
     ]
    },
    {
     "name": "stdout",
     "output_type": "stream",
     "text": [
      "\n",
      "Best Parameters for XGBoost: {'subsample': 1.0, 'n_estimators': 200, 'max_depth': 9, 'learning_rate': 0.1, 'colsample_bytree': 0.8}\n"
     ]
    }
   ],
   "source": [
    "from sklearn.model_selection import RandomizedSearchCV\n",
    "\n",
    "# Parameter Grid for XGBoost\n",
    "xgb_param_grid = {\n",
    "    'n_estimators': [50, 100, 200],\n",
    "    'learning_rate': [0.01, 0.1, 0.2],\n",
    "    'max_depth': [3, 6, 9],\n",
    "    'subsample': [0.8, 1.0],\n",
    "    'colsample_bytree': [0.8, 1.0],\n",
    "}\n",
    "\n",
    "# RandomizedSearchCV for XGBoost\n",
    "print(\"\\nPerforming hyperparameter tuning for XGBoost...\")\n",
    "random_search_xgb = RandomizedSearchCV(estimator=XGBClassifier(random_state=42, use_label_encoder=False), param_distributions=xgb_param_grid, n_iter=50, scoring='accuracy', cv=5, verbose=2, n_jobs=-1, random_state=42)\n",
    "random_search_xgb.fit(X_train, y_train)\n",
    "best_xgb = random_search_xgb.best_estimator_\n",
    "print(\"\\nBest Parameters for XGBoost:\", random_search_xgb.best_params_)\n"
   ]
  },
  {
   "cell_type": "code",
   "execution_count": 21,
   "metadata": {},
   "outputs": [
    {
     "name": "stdout",
     "output_type": "stream",
     "text": [
      "--- Tuned XGBoost ---\n",
      "Accuracy: 0.9453781512605042\n",
      "Confusion Matrix:\n",
      " [[ 99   8]\n",
      " [  5 126]]\n",
      "Classification Report:\n",
      "               precision    recall  f1-score   support\n",
      "\n",
      "           0       0.95      0.93      0.94       107\n",
      "           1       0.94      0.96      0.95       131\n",
      "\n",
      "    accuracy                           0.95       238\n",
      "   macro avg       0.95      0.94      0.94       238\n",
      "weighted avg       0.95      0.95      0.95       238\n",
      "\n"
     ]
    }
   ],
   "source": [
    "# Evaluate Tuned XGBoost\n",
    "y_pred_best_xgb = best_xgb.predict(X_test)\n",
    "evaluate_model(y_test, y_pred_best_xgb, \"Tuned XGBoost\")\n"
   ]
  },
  {
   "cell_type": "markdown",
   "metadata": {},
   "source": [
    "Advanced Stacking(SVM model and replace the meta-model with Gradient Boosting)"
   ]
  },
  {
   "cell_type": "code",
   "execution_count": 22,
   "metadata": {},
   "outputs": [
    {
     "name": "stderr",
     "output_type": "stream",
     "text": [
      "c:\\Users\\Manvitha HarishBabu\\anaconda3\\Lib\\site-packages\\xgboost\\core.py:158: UserWarning: [11:17:31] WARNING: C:\\buildkite-agent\\builds\\buildkite-windows-cpu-autoscaling-group-i-0c55ff5f71b100e98-1\\xgboost\\xgboost-ci-windows\\src\\learner.cc:740: \n",
      "Parameters: { \"use_label_encoder\" } are not used.\n",
      "\n",
      "  warnings.warn(smsg, UserWarning)\n",
      "c:\\Users\\Manvitha HarishBabu\\anaconda3\\Lib\\site-packages\\xgboost\\core.py:158: UserWarning: [11:17:34] WARNING: C:\\buildkite-agent\\builds\\buildkite-windows-cpu-autoscaling-group-i-0c55ff5f71b100e98-1\\xgboost\\xgboost-ci-windows\\src\\learner.cc:740: \n",
      "Parameters: { \"use_label_encoder\" } are not used.\n",
      "\n",
      "  warnings.warn(smsg, UserWarning)\n",
      "c:\\Users\\Manvitha HarishBabu\\anaconda3\\Lib\\site-packages\\xgboost\\core.py:158: UserWarning: [11:17:35] WARNING: C:\\buildkite-agent\\builds\\buildkite-windows-cpu-autoscaling-group-i-0c55ff5f71b100e98-1\\xgboost\\xgboost-ci-windows\\src\\learner.cc:740: \n",
      "Parameters: { \"use_label_encoder\" } are not used.\n",
      "\n",
      "  warnings.warn(smsg, UserWarning)\n"
     ]
    },
    {
     "name": "stdout",
     "output_type": "stream",
     "text": [
      "--- Advanced Stacked Ensemble ---\n",
      "Accuracy: 0.9411764705882353\n",
      "Confusion Matrix:\n",
      " [[102   5]\n",
      " [  9 122]]\n",
      "Classification Report:\n",
      "               precision    recall  f1-score   support\n",
      "\n",
      "           0       0.92      0.95      0.94       107\n",
      "           1       0.96      0.93      0.95       131\n",
      "\n",
      "    accuracy                           0.94       238\n",
      "   macro avg       0.94      0.94      0.94       238\n",
      "weighted avg       0.94      0.94      0.94       238\n",
      "\n"
     ]
    }
   ],
   "source": [
    "from sklearn.svm import SVC\n",
    "from sklearn.ensemble import GradientBoostingClassifier\n",
    "from sklearn.ensemble import StackingClassifier\n",
    "\n",
    "svm_model = SVC(probability=True, kernel='linear')\n",
    "\n",
    "stacking_clf_advanced = StackingClassifier(\n",
    "    estimators=[\n",
    "        ('rf', best_rf),\n",
    "        ('xgb', best_xgb),\n",
    "        ('svm', svm_model)\n",
    "    ],\n",
    "    final_estimator=GradientBoostingClassifier()\n",
    ")\n",
    "\n",
    "stacking_clf_advanced.fit(X_train, y_train)\n",
    "\n",
    "y_pred_stack_adv = stacking_clf_advanced.predict(X_test)\n",
    "evaluate_model(y_test, y_pred_stack_adv, \"Advanced Stacked Ensemble\")\n"
   ]
  },
  {
   "cell_type": "markdown",
   "metadata": {},
   "source": [
    "Hard Voting(Majority Rule):"
   ]
  },
  {
   "cell_type": "code",
   "execution_count": 23,
   "metadata": {},
   "outputs": [
    {
     "name": "stdout",
     "output_type": "stream",
     "text": [
      "Ensemble Accuracy (Hard Voting): 94.96%\n"
     ]
    },
    {
     "name": "stderr",
     "output_type": "stream",
     "text": [
      "c:\\Users\\Manvitha HarishBabu\\anaconda3\\Lib\\site-packages\\xgboost\\core.py:158: UserWarning: [11:17:36] WARNING: C:\\buildkite-agent\\builds\\buildkite-windows-cpu-autoscaling-group-i-0c55ff5f71b100e98-1\\xgboost\\xgboost-ci-windows\\src\\learner.cc:740: \n",
      "Parameters: { \"use_label_encoder\" } are not used.\n",
      "\n",
      "  warnings.warn(smsg, UserWarning)\n"
     ]
    }
   ],
   "source": [
    "from sklearn.ensemble import VotingClassifier\n",
    "from sklearn.metrics import accuracy_score\n",
    "\n",
    "# Create a voting classifier\n",
    "ensemble_model = VotingClassifier(\n",
    "    estimators=[('rf', best_rf), ('xgb', best_xgb)],\n",
    "    voting='hard'\n",
    ")\n",
    "\n",
    "# Train the ensemble model\n",
    "ensemble_model.fit(X_train, y_train)\n",
    "\n",
    "# Predict and evaluate\n",
    "y_pred_ensemble = ensemble_model.predict(X_test)\n",
    "ensemble_accuracy = accuracy_score(y_test, y_pred_ensemble)\n",
    "print(f\"Ensemble Accuracy (Hard Voting): {ensemble_accuracy * 100:.2f}%\")\n"
   ]
  },
  {
   "cell_type": "markdown",
   "metadata": {},
   "source": [
    "Soft Voting (Weighted Probabilities)"
   ]
  },
  {
   "cell_type": "code",
   "execution_count": 24,
   "metadata": {},
   "outputs": [
    {
     "name": "stdout",
     "output_type": "stream",
     "text": [
      "Ensemble Accuracy (Soft Voting): 94.54%\n"
     ]
    },
    {
     "name": "stderr",
     "output_type": "stream",
     "text": [
      "c:\\Users\\Manvitha HarishBabu\\anaconda3\\Lib\\site-packages\\xgboost\\core.py:158: UserWarning: [11:17:37] WARNING: C:\\buildkite-agent\\builds\\buildkite-windows-cpu-autoscaling-group-i-0c55ff5f71b100e98-1\\xgboost\\xgboost-ci-windows\\src\\learner.cc:740: \n",
      "Parameters: { \"use_label_encoder\" } are not used.\n",
      "\n",
      "  warnings.warn(smsg, UserWarning)\n"
     ]
    }
   ],
   "source": [
    "# Create a voting classifier with soft voting\n",
    "ensemble_model_soft = VotingClassifier(\n",
    "    estimators=[('rf', best_rf), ('xgb', best_xgb)],\n",
    "    voting='soft',\n",
    "    weights=[1, 2]  # Assign higher weight to XGBoost if it performs better\n",
    ")\n",
    "\n",
    "# Train and evaluate\n",
    "ensemble_model_soft.fit(X_train, y_train)\n",
    "y_pred_ensemble_soft = ensemble_model_soft.predict(X_test)\n",
    "ensemble_soft_accuracy = accuracy_score(y_test, y_pred_ensemble_soft)\n",
    "print(f\"Ensemble Accuracy (Soft Voting): {ensemble_soft_accuracy * 100:.2f}%\")\n"
   ]
  },
  {
   "cell_type": "markdown",
   "metadata": {},
   "source": [
    "Cross-Validation for Robust Evaluation"
   ]
  },
  {
   "cell_type": "code",
   "execution_count": 25,
   "metadata": {},
   "outputs": [
    {
     "name": "stderr",
     "output_type": "stream",
     "text": [
      "c:\\Users\\Manvitha HarishBabu\\anaconda3\\Lib\\site-packages\\xgboost\\core.py:158: UserWarning: [11:17:38] WARNING: C:\\buildkite-agent\\builds\\buildkite-windows-cpu-autoscaling-group-i-0c55ff5f71b100e98-1\\xgboost\\xgboost-ci-windows\\src\\learner.cc:740: \n",
      "Parameters: { \"use_label_encoder\" } are not used.\n",
      "\n",
      "  warnings.warn(smsg, UserWarning)\n",
      "c:\\Users\\Manvitha HarishBabu\\anaconda3\\Lib\\site-packages\\xgboost\\core.py:158: UserWarning: [11:17:39] WARNING: C:\\buildkite-agent\\builds\\buildkite-windows-cpu-autoscaling-group-i-0c55ff5f71b100e98-1\\xgboost\\xgboost-ci-windows\\src\\learner.cc:740: \n",
      "Parameters: { \"use_label_encoder\" } are not used.\n",
      "\n",
      "  warnings.warn(smsg, UserWarning)\n",
      "c:\\Users\\Manvitha HarishBabu\\anaconda3\\Lib\\site-packages\\xgboost\\core.py:158: UserWarning: [11:17:40] WARNING: C:\\buildkite-agent\\builds\\buildkite-windows-cpu-autoscaling-group-i-0c55ff5f71b100e98-1\\xgboost\\xgboost-ci-windows\\src\\learner.cc:740: \n",
      "Parameters: { \"use_label_encoder\" } are not used.\n",
      "\n",
      "  warnings.warn(smsg, UserWarning)\n",
      "c:\\Users\\Manvitha HarishBabu\\anaconda3\\Lib\\site-packages\\xgboost\\core.py:158: UserWarning: [11:17:41] WARNING: C:\\buildkite-agent\\builds\\buildkite-windows-cpu-autoscaling-group-i-0c55ff5f71b100e98-1\\xgboost\\xgboost-ci-windows\\src\\learner.cc:740: \n",
      "Parameters: { \"use_label_encoder\" } are not used.\n",
      "\n",
      "  warnings.warn(smsg, UserWarning)\n",
      "c:\\Users\\Manvitha HarishBabu\\anaconda3\\Lib\\site-packages\\xgboost\\core.py:158: UserWarning: [11:17:42] WARNING: C:\\buildkite-agent\\builds\\buildkite-windows-cpu-autoscaling-group-i-0c55ff5f71b100e98-1\\xgboost\\xgboost-ci-windows\\src\\learner.cc:740: \n",
      "Parameters: { \"use_label_encoder\" } are not used.\n",
      "\n",
      "  warnings.warn(smsg, UserWarning)\n",
      "c:\\Users\\Manvitha HarishBabu\\anaconda3\\Lib\\site-packages\\xgboost\\core.py:158: UserWarning: [11:17:43] WARNING: C:\\buildkite-agent\\builds\\buildkite-windows-cpu-autoscaling-group-i-0c55ff5f71b100e98-1\\xgboost\\xgboost-ci-windows\\src\\learner.cc:740: \n",
      "Parameters: { \"use_label_encoder\" } are not used.\n",
      "\n",
      "  warnings.warn(smsg, UserWarning)\n",
      "c:\\Users\\Manvitha HarishBabu\\anaconda3\\Lib\\site-packages\\xgboost\\core.py:158: UserWarning: [11:17:44] WARNING: C:\\buildkite-agent\\builds\\buildkite-windows-cpu-autoscaling-group-i-0c55ff5f71b100e98-1\\xgboost\\xgboost-ci-windows\\src\\learner.cc:740: \n",
      "Parameters: { \"use_label_encoder\" } are not used.\n",
      "\n",
      "  warnings.warn(smsg, UserWarning)\n",
      "c:\\Users\\Manvitha HarishBabu\\anaconda3\\Lib\\site-packages\\xgboost\\core.py:158: UserWarning: [11:17:46] WARNING: C:\\buildkite-agent\\builds\\buildkite-windows-cpu-autoscaling-group-i-0c55ff5f71b100e98-1\\xgboost\\xgboost-ci-windows\\src\\learner.cc:740: \n",
      "Parameters: { \"use_label_encoder\" } are not used.\n",
      "\n",
      "  warnings.warn(smsg, UserWarning)\n",
      "c:\\Users\\Manvitha HarishBabu\\anaconda3\\Lib\\site-packages\\xgboost\\core.py:158: UserWarning: [11:17:47] WARNING: C:\\buildkite-agent\\builds\\buildkite-windows-cpu-autoscaling-group-i-0c55ff5f71b100e98-1\\xgboost\\xgboost-ci-windows\\src\\learner.cc:740: \n",
      "Parameters: { \"use_label_encoder\" } are not used.\n",
      "\n",
      "  warnings.warn(smsg, UserWarning)\n",
      "c:\\Users\\Manvitha HarishBabu\\anaconda3\\Lib\\site-packages\\xgboost\\core.py:158: UserWarning: [11:17:48] WARNING: C:\\buildkite-agent\\builds\\buildkite-windows-cpu-autoscaling-group-i-0c55ff5f71b100e98-1\\xgboost\\xgboost-ci-windows\\src\\learner.cc:740: \n",
      "Parameters: { \"use_label_encoder\" } are not used.\n",
      "\n",
      "  warnings.warn(smsg, UserWarning)\n"
     ]
    },
    {
     "name": "stdout",
     "output_type": "stream",
     "text": [
      "Cross-Validated Accuracy: 93.19%\n"
     ]
    }
   ],
   "source": [
    "from sklearn.model_selection import cross_val_score\n",
    "\n",
    "cv_scores = cross_val_score(ensemble_model_soft, X, y, cv=10, scoring='accuracy')\n",
    "print(f\"Cross-Validated Accuracy: {cv_scores.mean() * 100:.2f}%\")\n"
   ]
  },
  {
   "cell_type": "markdown",
   "metadata": {},
   "source": [
    "Final Outcomes"
   ]
  },
  {
   "cell_type": "code",
   "execution_count": null,
   "metadata": {},
   "outputs": [],
   "source": []
  },
  {
   "cell_type": "code",
   "execution_count": null,
   "metadata": {},
   "outputs": [],
   "source": []
  },
  {
   "cell_type": "code",
   "execution_count": null,
   "metadata": {},
   "outputs": [],
   "source": []
  },
  {
   "cell_type": "code",
   "execution_count": null,
   "metadata": {},
   "outputs": [],
   "source": []
  },
  {
   "cell_type": "markdown",
   "metadata": {},
   "source": [
    "Deploy the best models\n"
   ]
  },
  {
   "cell_type": "code",
   "execution_count": 26,
   "metadata": {},
   "outputs": [
    {
     "name": "stdout",
     "output_type": "stream",
     "text": [
      "\n",
      "Saving the best model...\n",
      "Models saved successfully!\n"
     ]
    }
   ],
   "source": [
    "import joblib\n",
    "\n",
    "# Save the Best Model\n",
    "print(\"\\nSaving the best model...\")\n",
    "joblib.dump(best_rf, 'best_random_forest_model.pkl')\n",
    "joblib.dump(best_xgb, 'best_xgboost_model.pkl')\n",
    "joblib.dump(stacking_clf, 'stacked_model.pkl')\n",
    "joblib.dump(ensemble_accuracy, 'hard_ensemble_model.pkl')\n",
    "print(\"Models saved successfully!\")\n"
   ]
  }
 ],
 "metadata": {
  "kernelspec": {
   "display_name": "base",
   "language": "python",
   "name": "python3"
  },
  "language_info": {
   "codemirror_mode": {
    "name": "ipython",
    "version": 3
   },
   "file_extension": ".py",
   "mimetype": "text/x-python",
   "name": "python",
   "nbconvert_exporter": "python",
   "pygments_lexer": "ipython3",
   "version": "3.12.4"
  }
 },
 "nbformat": 4,
 "nbformat_minor": 2
}
